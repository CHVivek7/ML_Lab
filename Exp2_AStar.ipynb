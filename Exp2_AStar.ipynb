{
 "cells": [
  {
   "cell_type": "code",
   "execution_count": null,
   "id": "5ec72ce5-8909-499a-9bc4-312491974b96",
   "metadata": {},
   "outputs": [
    {
     "name": "stdout",
     "output_type": "stream",
     "text": [
      "Path found: ['A', 'F', 'G', 'I', 'J']\n"
     ]
    },
    {
     "data": {
      "text/plain": [
       "['A', 'F', 'G', 'I', 'J']"
      ]
     },
     "execution_count": 1,
     "metadata": {},
     "output_type": "execute_result"
    }
   ],
   "source": [
    "def a_star(start, goal):\n",
    "    open_set = {start}\n",
    "    closed_set = set()\n",
    "    g = {start: 0}\n",
    "    parents = {start: None}\n",
    "\n",
    "    while open_set:\n",
    "        n = min(open_set, key=lambda x: g[x] + heuristic(x))\n",
    "\n",
    "        if n == goal:\n",
    "            path = []\n",
    "            while n is not None:\n",
    "                path.append(n)\n",
    "                n = parents[n]\n",
    "            return path[::-1]\n",
    "\n",
    "        open_set.remove(n)\n",
    "        closed_set.add(n)\n",
    "\n",
    "        for m, cost in neighbors(n):\n",
    "            if m in closed_set:\n",
    "                continue\n",
    "            new_g = g[n] + cost\n",
    "            if m not in open_set or new_g < g.get(m, float('inf')):\n",
    "                g[m] = new_g\n",
    "                parents[m] = n\n",
    "                open_set.add(m)\n",
    "\n",
    "    print(\"No path found!\")\n",
    "    return None\n",
    "\n",
    "def neighbors(node):\n",
    "    return Graph.get(node, [])\n",
    "\n",
    "def heuristic(node):\n",
    "    H = {'A':10, 'B':8, 'C':5, 'D':7, 'E':3, 'F':6, 'G':3, 'H':3, 'I':1, 'J':0}\n",
    "    return H.get(node, 0)\n",
    "\n",
    "Graph = {\n",
    "    'A': [('B', 6), ('F', 3)],\n",
    "    'B': [('C', 3), ('D', 2)],\n",
    "    'C': [('D', 1), ('E', 4)],\n",
    "    'D': [('E', 8)],\n",
    "    'E': [('I',5), ('J',5)],\n",
    "    'F': [('G',1), ('H',7)],\n",
    "    'G': [('I',3)],\n",
    "    'H': [('I',2)],\n",
    "    'I': [('J',3)],\n",
    "    'J': []\n",
    "}\n",
    "\n",
    "# Run\n",
    "path = a_star('A', 'J')\n",
    "if path:\n",
    "    print(\"Path found:\", path)\n"
   ]
  },
  {
   "cell_type": "code",
   "execution_count": null,
   "id": "de47a25e-a4fb-4e38-9dd7-8ac6438d3252",
   "metadata": {},
   "outputs": [],
   "source": []
  }
 ],
 "metadata": {
  "kernelspec": {
   "display_name": "Python 3 (ipykernel)",
   "language": "python",
   "name": "python3"
  },
  "language_info": {
   "codemirror_mode": {
    "name": "ipython",
    "version": 3
   },
   "file_extension": ".py",
   "mimetype": "text/x-python",
   "name": "python",
   "nbconvert_exporter": "python",
   "pygments_lexer": "ipython3",
   "version": "3.13.1"
  }
 },
 "nbformat": 4,
 "nbformat_minor": 5
}
